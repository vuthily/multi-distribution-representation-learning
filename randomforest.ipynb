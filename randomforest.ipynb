{
 "cells": [
  {
   "cell_type": "code",
   "execution_count": 1,
   "metadata": {},
   "outputs": [],
   "source": [
    "import numpy as np\n",
    "import tensorflow as tf\n",
    "from tensorflow.contrib.slim import fully_connected as fc\n",
    "import matplotlib.pyplot as plt \n",
    "import datapreprocessing\n",
    "import operator\n",
    "import os.path\n",
    "import classifier\n",
    "from  sklearn.metrics  import  accuracy_score , roc_curve , auc , roc_auc_score\n",
    "import time\n",
    "%matplotlib inline"
   ]
  },
  {
   "cell_type": "code",
   "execution_count": 2,
   "metadata": {},
   "outputs": [
    {
     "name": "stdout",
     "output_type": "stream",
     "text": [
      "('len train: ', 176349)\n",
      "('len test: ', 674477)\n",
      "rf12\n",
      "The auc: 0.848711398754 false alarm rate: 0.0  miss rate 0.302577202492 \n"
     ]
    }
   ],
   "source": [
    "datasets = np.asarray([\"nslkdd\", \"unsw\", \"ctu13_8\", \"Ads\",\\\n",
    "                       \"Phishing\", \"Antivirus\",\"Spam\",\\\n",
    "                       \"Danmini_Doorbell\",\"Ecobee_Thermostat\",\\\n",
    "                       \"Ennio_Doorbell\",\"Philips_B120N10_Baby_Monitor\",\\\n",
    "                       \"Provision_PT_737E_Security_Camera\", \"Provision_PT_838_Security_Camera\",\\\n",
    "                      \"Samsung_SNH_1011_N_Webcam\", \"SimpleHome_XCS7_1002_WHT_Security_Camera\", \\\n",
    "                      \"SimpleHome_XCS7_1003_WHT_Security_Camera\"]) \n",
    "hidden_layers = np.asarray([[85, 30, 15], [150, 100,50],[30,20,10],[1000,500,100],\n",
    "                            [50,30,15],[450,200,100],[35,20,10],[85, 30, 5]])\n",
    "batch_sizes = np.asarray([100,100,100,100,100,100,100,100])\n",
    "\n",
    "data_index = 15\n",
    "dataname = datasets[data_index]\n",
    "\n",
    "hidden_layer = hidden_layers[7] \n",
    "batch_size = batch_sizes [7]\n",
    "\n",
    "dt = datapreprocessing.read_data_sets(dataname)\n",
    "\n",
    "X_train = dt.train.features\n",
    "Y_train = dt.train.labels\n",
    "\n",
    "X_test = dt.test.features\n",
    "Y_test = dt.test.labels\n",
    "\n",
    "auc4, t4, TP4, FP4, TN4, FN4 = classifier.train(X_train, Y_train, X_test,Y_test, \"rf12\")"
   ]
  }
 ],
 "metadata": {
  "kernelspec": {
   "display_name": "Python 3",
   "language": "python",
   "name": "python3"
  },
  "language_info": {
   "codemirror_mode": {
    "name": "ipython",
    "version": 3
   },
   "file_extension": ".py",
   "mimetype": "text/x-python",
   "name": "python",
   "nbconvert_exporter": "python",
   "pygments_lexer": "ipython3",
   "version": "3.6.8"
  }
 },
 "nbformat": 4,
 "nbformat_minor": 2
}
